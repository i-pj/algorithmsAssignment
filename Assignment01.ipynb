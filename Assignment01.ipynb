{
 "cells": [
  {
   "cell_type": "code",
   "execution_count": 19,
   "metadata": {},
   "outputs": [],
   "source": [
    "# Assignment questions\n",
    "import time\n"
   ]
  },
  {
   "cell_type": "code",
   "execution_count": 8,
   "metadata": {},
   "outputs": [
    {
     "name": "stdout",
     "output_type": "stream",
     "text": [
      "3\n"
     ]
    }
   ],
   "source": [
    "# Q.1 Write a program for finding the median of a set of positive integers. Make sure you carefully write the input, output and any special conditions or constraints that are to be applicable.\n",
    "\n",
    "class Median:\n",
    "    def __init__(self, arr):\n",
    "        self.arr = arr\n",
    "        self.arr.sort() # Time Complexity: O(nlogn)\n",
    "        self.n = len(arr)\n",
    "        self.median = None\n",
    "\n",
    "    def find_median(self):\n",
    "        if self.n % 2 == 0:\n",
    "            self.median = (self.arr[self.n//2] + self.arr[self.n//2 - 1]) / 2\n",
    "        else:\n",
    "            self.median = self.arr[self.n//2]\n",
    "        return self.median\n",
    "# Print\n",
    "arr = [1, 2, 3, 4, 5]\n",
    "median = Median(arr)\n",
    "print(median.find_median())\n",
    "\n"
   ]
  },
  {
   "cell_type": "code",
   "execution_count": 10,
   "metadata": {},
   "outputs": [
    {
     "name": "stdout",
     "output_type": "stream",
     "text": [
      "5040\n",
      "5040\n"
     ]
    }
   ],
   "source": [
    "# Q.2 Write a program to find a Factorial of a number n, where n is entered by user using a: Iterative Method; b. Recursive method\n",
    "# Also analyse the algorithm.\n",
    "\n",
    "class Factorial:\n",
    "    def __init__(self, n):\n",
    "        self.n = n\n",
    "\n",
    "    def iterative_factorial(self):\n",
    "        fact = 1\n",
    "        for i in range(1, self.n + 1):\n",
    "            fact *= i\n",
    "        return fact\n",
    "\n",
    "    def recursive_factorial(self, n):\n",
    "        if n == 0:\n",
    "            return 1\n",
    "        return n * self.recursive_factorial(n - 1)\n",
    "\n",
    "# Print\n",
    "n = int(input(\"Enter a number: \"))\n",
    "fact = Factorial(n)\n",
    "print(fact.iterative_factorial())\n",
    "print(fact.recursive_factorial(n))\n"
   ]
  },
  {
   "cell_type": "code",
   "execution_count": 1,
   "metadata": {},
   "outputs": [
    {
     "name": "stdout",
     "output_type": "stream",
     "text": [
      "0 1 1 2 3 5 \n",
      "0 1 1 2 3 5 "
     ]
    }
   ],
   "source": [
    "# Q.3 Write and analyse a program to print Fibonacci series up to n terms, where n is entered by user using:\n",
    "# a: Iterative Method; b. Recursive method.\n",
    "\n",
    "class Fibonacci:\n",
    "    def __init__(self, n):\n",
    "        self.n = n\n",
    "\n",
    "    def iterative_fibonacci(self):\n",
    "        a, b = 0, 1\n",
    "        for i in range(self.n):\n",
    "            print(a, end=\" \")\n",
    "            a, b = b, a + b\n",
    "\n",
    "    def recursive_fibonacci(self, n, a=0, b=1):\n",
    "        if n == 0:\n",
    "            return\n",
    "        print(a, end=\" \")\n",
    "        self.recursive_fibonacci(n-1, b, a+b)\n",
    "\n",
    "# Print \n",
    "n = int(input(\"Enter a number: \"))\n",
    "fib = Fibonacci(n)\n",
    "fib.iterative_fibonacci()\n",
    "print()\n",
    "fib.recursive_fibonacci(n)"
   ]
  },
  {
   "cell_type": "code",
   "execution_count": 2,
   "metadata": {},
   "outputs": [
    {
     "name": "stdout",
     "output_type": "stream",
     "text": [
      "10\n",
      "10\n"
     ]
    }
   ],
   "source": [
    "# Q.4 Write and analyse both recursive and an iterative program to compute the binomial coefficient.\n",
    "\n",
    "class BinomialCoefficient:\n",
    "    def __init__(self, n, k):\n",
    "        self.n = n\n",
    "        self.k = k\n",
    "\n",
    "    def binomial_coefficient_recursive(self, n, k):\n",
    "        if k == 0 or k == n:\n",
    "            return 1\n",
    "        return self.binomial_coefficient_recursive(n-1, k-1) + self.binomial_coefficient_recursive(n-1, k)\n",
    "\n",
    "    def binomial_coefficient_iterative(self):\n",
    "        C = [[0 for _ in range(self.k+1)] for _ in range(self.n+1)]\n",
    "        for i in range(self.n+1):\n",
    "            for j in range(min(i, self.k)+1):\n",
    "                if j == 0 or j == i:\n",
    "                    C[i][j] = 1\n",
    "                else:\n",
    "                    C[i][j] = C[i-1][j-1] + C[i-1][j]\n",
    "        return C[self.n][self.k]\n",
    "\n",
    "# Print\n",
    "n = 5\n",
    "k = 2\n",
    "bc = BinomialCoefficient(n, k)\n",
    "print(bc.binomial_coefficient_recursive(n, k))\n",
    "print(bc.binomial_coefficient_iterative())"
   ]
  },
  {
   "cell_type": "code",
   "execution_count": 8,
   "metadata": {},
   "outputs": [
    {
     "name": "stdout",
     "output_type": "stream",
     "text": [
      "([11, 12, 22, 25, 64], 4.0531158447265625e-06)\n"
     ]
    }
   ],
   "source": [
    "# Q.5 Implement and analyse the Selection sort algorithm for given keys.\n",
    "\n",
    "class SelectionSort:\n",
    "    def __init__(self, arr):\n",
    "        self.arr = arr\n",
    "        self.n = len(arr)\n",
    "\n",
    "    def selection_sort(self):\n",
    "        start = time.time()\n",
    "        for i in range(self.n):\n",
    "            min_idx = i\n",
    "            for j in range(i+1, self.n):\n",
    "                if self.arr[j] < self.arr[min_idx]:\n",
    "                    min_idx = j\n",
    "            self.arr[i], self.arr[min_idx] = self.arr[min_idx], self.arr[i]\n",
    "        end = time.time()\n",
    "        return self.arr, end - start\n",
    "\n",
    "# Print\n",
    "arr = [64, 25, 12, 22, 11]\n",
    "ss = SelectionSort(arr)\n",
    "print(ss.selection_sort())\n",
    "\n",
    "        \n",
    "        "
   ]
  },
  {
   "cell_type": "code",
   "execution_count": 9,
   "metadata": {},
   "outputs": [
    {
     "name": "stdout",
     "output_type": "stream",
     "text": [
      "True\n",
      "True\n"
     ]
    }
   ],
   "source": [
    "# Q.6 Write and analyse a program to find whether the given number is Armstrong Number or not using\n",
    "# a: Iterative Method; b. Recursive method.\n",
    "\n",
    "class ArmstrongNumber:\n",
    "    def __init__(self, n):\n",
    "        self.n = n\n",
    "\n",
    "    def iterative_armstrong(self):\n",
    "        temp = self.n\n",
    "        n = len(str(self.n))\n",
    "        sum = 0\n",
    "        while temp > 0:\n",
    "            digit = temp % 10\n",
    "            sum += digit ** n\n",
    "            temp //= 10\n",
    "        return sum == self.n\n",
    "\n",
    "    def recursive_armstrong(self, n, temp=0):\n",
    "        if n == 0:\n",
    "            return temp == self.n\n",
    "        digit = n % 10\n",
    "        temp += digit ** len(str(self.n))\n",
    "        return self.recursive_armstrong(n//10, temp)\n",
    "\n",
    "# Print\n",
    "n = 153\n",
    "an = ArmstrongNumber(n)\n",
    "print(an.iterative_armstrong())\n",
    "print(an.recursive_armstrong(n))"
   ]
  },
  {
   "cell_type": "code",
   "execution_count": 12,
   "metadata": {},
   "outputs": [
    {
     "name": "stdout",
     "output_type": "stream",
     "text": [
      "Move disk 1 from A to C\n",
      "Move disk 2 from A to B\n",
      "Move disk 1 from C to B\n",
      "Move disk 3 from A to C\n",
      "Move disk 1 from B to A\n",
      "Move disk 2 from B to C\n",
      "Move disk 1 from A to C\n"
     ]
    }
   ],
   "source": [
    "# Q.7 Implement and analyse the program for Tower of Hanoi problem using a recursion method.\n",
    "\n",
    "class TowerOfHanoi:\n",
    "    def __init__(self, n):\n",
    "        self.n = n\n",
    "\n",
    "    def tower_of_hanoi(self, n, source, destination, aux):\n",
    "        if n == 1:\n",
    "            print(f\"Move disk 1 from {source} to {destination}\")\n",
    "            return\n",
    "        self.tower_of_hanoi(n-1, source, aux, destination)\n",
    "        print(f\"Move disk {n} from {source} to {destination}\")\n",
    "        self.tower_of_hanoi(n-1, aux, destination, source)\n",
    "\n",
    "# Print\n",
    "n = 3\n",
    "th = TowerOfHanoi(n)\n",
    "th.tower_of_hanoi(n, 'A', 'C', 'B')"
   ]
  },
  {
   "cell_type": "code",
   "execution_count": 13,
   "metadata": {},
   "outputs": [
    {
     "name": "stdout",
     "output_type": "stream",
     "text": [
      "10\n"
     ]
    }
   ],
   "source": [
    "# Q.8 The pigeonhole principle states that if a function f has n distinct inputs but less then n distinct outputs, then there exist two inputs a and b such that a ≠ b and f(a) = f(b).\n",
    "# Write a program to find a and b such that f(a) = f(b). Assume that the function inputs are 1, 2, 3.....and n.\n",
    "\n",
    "class PigeonholePrinciple:\n",
    "    def __init__(self, arr):\n",
    "        self.arr = arr\n",
    "        self.n = len(arr)\n",
    "\n",
    "    def find_pigeonhole(self):\n",
    "        hole = {}\n",
    "        for i in range(self.n):\n",
    "            if self.arr[i] in hole:\n",
    "                return self.arr[i]\n",
    "            hole[self.arr[i]] = 1\n",
    "        return -1\n",
    "\n",
    "# Print\n",
    "arr = [1, 2, 3, 4, 5, 6, 7, 8, 9, 10, 10]\n",
    "pp = PigeonholePrinciple(arr)\n",
    "print(pp.find_pigeonhole())\n"
   ]
  },
  {
   "cell_type": "code",
   "execution_count": 14,
   "metadata": {},
   "outputs": [
    {
     "name": "stdout",
     "output_type": "stream",
     "text": [
      "(9, 3)\n",
      "(9, 3)\n"
     ]
    }
   ],
   "source": [
    "# Q.9 Write a program to find the largest and smallest number from given three numbers using:\n",
    "# a: Iterative Method b. Recursive method also analyse the program.\n",
    "\n",
    "class LargestSmallest:\n",
    "    def __init__(self, a, b, c):\n",
    "        self.a = a\n",
    "        self.b = b\n",
    "        self.c = c\n",
    "\n",
    "    def iterative_largest_smallest(self):\n",
    "        largest = max(self.a, self.b, self.c)\n",
    "        smallest = min(self.a, self.b, self.c)\n",
    "        return largest, smallest\n",
    "\n",
    "    def recursive_largest_smallest(self, arr, n):\n",
    "        if n == 1:\n",
    "            return arr[0], arr[0]\n",
    "        largest, smallest = self.recursive_largest_smallest(arr, n-1)\n",
    "        return max(largest, arr[n-1]), min(smallest, arr[n-1])\n",
    "\n",
    "# Print\n",
    "a, b, c = 5, 3, 9\n",
    "ls = LargestSmallest(a, b, c)\n",
    "print(ls.iterative_largest_smallest())\n",
    "print(ls.recursive_largest_smallest([a, b, c], 3))"
   ]
  },
  {
   "cell_type": "code",
   "execution_count": 24,
   "metadata": {},
   "outputs": [
    {
     "name": "stdout",
     "output_type": "stream",
     "text": [
      "(5, 0)\n"
     ]
    }
   ],
   "source": [
    "# Q.10 In the following C function, let n ≥ m. \n",
    "# int GCD(int n, int m){\n",
    "# if (n%m==0)\n",
    "# return m;\n",
    "# n=n%m;\n",
    "# return GCD(m,n);\n",
    "#}\n",
    "#How many recursive calls are made by this function?\n",
    "\n",
    "# counter increases by 1 for each recursive call\n",
    "\n",
    "def GCD(n, m, count=0):\n",
    "    if n % m == 0:\n",
    "        return m, count\n",
    "    n = n % m\n",
    "    count += 1\n",
    "    return GCD(m, n, count)\n",
    "\n",
    "# Print\n",
    "n, m = 10, 5\n",
    "print(GCD(n, m)) "
   ]
  },
  {
   "cell_type": "code",
   "execution_count": null,
   "metadata": {},
   "outputs": [],
   "source": []
  }
 ],
 "metadata": {
  "kernelspec": {
   "display_name": "Assignment",
   "language": "python",
   "name": "python3"
  },
  "language_info": {
   "codemirror_mode": {
    "name": "ipython",
    "version": 3
   },
   "file_extension": ".py",
   "mimetype": "text/x-python",
   "name": "python",
   "nbconvert_exporter": "python",
   "pygments_lexer": "ipython3",
   "version": "3.10.13"
  }
 },
 "nbformat": 4,
 "nbformat_minor": 2
}
