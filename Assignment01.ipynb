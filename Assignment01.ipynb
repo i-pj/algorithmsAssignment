{
 "cells": [
  {
   "cell_type": "code",
   "execution_count": 1,
   "metadata": {},
   "outputs": [],
   "source": [
    "# Assignment questions\n",
    "# I have to solve some basic python questions what modules I have to import?\n",
    "# I have to use the math module to solve the questions.\n",
    "import math\n",
    "import random\n",
    "import time\n"
   ]
  },
  {
   "cell_type": "code",
   "execution_count": 5,
   "metadata": {},
   "outputs": [],
   "source": [
    "# Q.1 Write a program for finding the median of a set of positive integers. Make sure you carefully write the input, output and any special conditions or constraints that are to be applicable.\n",
    "#Input\n",
    "arr = [1, 2, 3, 4, 5, 6, 7, 8, 9, 10]\n",
    "\n",
    "class Median:\n",
    "    def __init__(self, arr):\n",
    "        self.arr = arr\n",
    "\n",
    "    def find_median(self):\n",
    "        self.arr.sort()\n",
    "        n = len(self.arr)\n",
    "        if n % 2 == 0:\n",
    "            return (self.arr[n // 2] + self.arr[n // 2 - 1]) / 2\n",
    "        else:\n",
    "            return self.arr[n // 2]\n",
    "\n",
    "    def __str__(self):\n",
    "        print(f\"Median of the given array is {self.find_median()}\")\n",
    "\n"
   ]
  },
  {
   "cell_type": "code",
   "execution_count": null,
   "metadata": {},
   "outputs": [],
   "source": []
  }
 ],
 "metadata": {
  "kernelspec": {
   "display_name": "Assignment",
   "language": "python",
   "name": "python3"
  },
  "language_info": {
   "codemirror_mode": {
    "name": "ipython",
    "version": 3
   },
   "file_extension": ".py",
   "mimetype": "text/x-python",
   "name": "python",
   "nbconvert_exporter": "python",
   "pygments_lexer": "ipython3",
   "version": "3.10.13"
  }
 },
 "nbformat": 4,
 "nbformat_minor": 2
}
