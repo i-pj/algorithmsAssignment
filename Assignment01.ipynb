{
 "cells": [
  {
   "cell_type": "code",
   "execution_count": 1,
   "metadata": {},
   "outputs": [
    {
     "name": "stdout",
     "output_type": "stream",
     "text": [
      "The Zen of Python, by Tim Peters\n",
      "\n",
      "Beautiful is better than ugly.\n",
      "Explicit is better than implicit.\n",
      "Simple is better than complex.\n",
      "Complex is better than complicated.\n",
      "Flat is better than nested.\n",
      "Sparse is better than dense.\n",
      "Readability counts.\n",
      "Special cases aren't special enough to break the rules.\n",
      "Although practicality beats purity.\n",
      "Errors should never pass silently.\n",
      "Unless explicitly silenced.\n",
      "In the face of ambiguity, refuse the temptation to guess.\n",
      "There should be one-- and preferably only one --obvious way to do it.\n",
      "Although that way may not be obvious at first unless you're Dutch.\n",
      "Now is better than never.\n",
      "Although never is often better than *right* now.\n",
      "If the implementation is hard to explain, it's a bad idea.\n",
      "If the implementation is easy to explain, it may be a good idea.\n",
      "Namespaces are one honking great idea -- let's do more of those!\n"
     ]
    }
   ],
   "source": [
    "import this "
   ]
  },
  {
   "cell_type": "code",
   "execution_count": 3,
   "metadata": {},
   "outputs": [],
   "source": [
    "# Assignment questions\n",
    "import time\n",
    "import random\n",
    "import sys"
   ]
  },
  {
   "cell_type": "code",
   "execution_count": 4,
   "metadata": {},
   "outputs": [
    {
     "name": "stdout",
     "output_type": "stream",
     "text": [
      "3\n"
     ]
    }
   ],
   "source": [
    "# Q.1 Write a program for finding the median of a set of positive integers. Make sure you carefully write the input, output and any special conditions or constraints that are to be applicable.\n",
    "\n",
    "class Median:\n",
    "    def __init__(self, arr):\n",
    "        self.arr = arr\n",
    "        self.arr.sort() # Time Complexity: O(nlogn)\n",
    "        self.n = len(arr)\n",
    "        self.median = None\n",
    "\n",
    "    def find_median(self):\n",
    "        if self.n % 2 == 0:\n",
    "            self.median = (self.arr[self.n//2] + self.arr[self.n//2 - 1]) / 2\n",
    "        else:\n",
    "            self.median = self.arr[self.n//2]\n",
    "        return self.median\n",
    "# Print\n",
    "arr = [1, 2, 3, 4, 5]\n",
    "median = Median(arr)\n",
    "print(median.find_median())\n",
    "\n"
   ]
  },
  {
   "cell_type": "code",
   "execution_count": 6,
   "metadata": {},
   "outputs": [
    {
     "name": "stdout",
     "output_type": "stream",
     "text": [
      "40320\n",
      "40320\n"
     ]
    }
   ],
   "source": [
    "# Q.2 Write a program to find a Factorial of a number n, where n is entered by user using a: Iterative Method; b. Recursive method\n",
    "# Also analyse the algorithm.\n",
    "\n",
    "class Factorial:\n",
    "    def __init__(self, n):\n",
    "        self.n = n\n",
    "\n",
    "    def iterative_factorial(self):\n",
    "        fact = 1\n",
    "        for i in range(1, self.n + 1):\n",
    "            fact *= i\n",
    "        return fact\n",
    "\n",
    "    def recursive_factorial(self, n):\n",
    "        if n == 0:\n",
    "            return 1\n",
    "        return n * self.recursive_factorial(n - 1)\n",
    "\n",
    "# Print\n",
    "n = int(input(\"Enter a number: \"))\n",
    "fact = Factorial(n)\n",
    "print(fact.iterative_factorial())\n",
    "print(fact.recursive_factorial(n))\n"
   ]
  },
  {
   "cell_type": "code",
   "execution_count": null,
   "metadata": {},
   "outputs": [
    {
     "name": "stdout",
     "output_type": "stream",
     "text": [
      "0 1 1 2 3 5 \n",
      "0 1 1 2 3 5 "
     ]
    }
   ],
   "source": [
    "# Q.3 Write and analyse a program to print Fibonacci series up to n terms, where n is entered by user using:\n",
    "# a: Iterative Method; b. Recursive method.\n",
    "\n",
    "class Fibonacci:\n",
    "    def __init__(self, n):\n",
    "        self.n = n\n",
    "\n",
    "    def iterative_fibonacci(self):\n",
    "        a, b = 0, 1\n",
    "        for i in range(self.n):\n",
    "            print(a, end=\" \")\n",
    "            a, b = b, a + b\n",
    "\n",
    "    def recursive_fibonacci(self, n, a=0, b=1):\n",
    "        if n == 0:\n",
    "            return\n",
    "        print(a, end=\" \")\n",
    "        self.recursive_fibonacci(n-1, b, a+b)\n",
    "\n",
    "# Print \n",
    "n = int(input(\"Enter a number: \"))\n",
    "fib = Fibonacci(n)\n",
    "fib.iterative_fibonacci()\n",
    "print()\n",
    "fib.recursive_fibonacci(n)"
   ]
  },
  {
   "cell_type": "code",
   "execution_count": null,
   "metadata": {},
   "outputs": [
    {
     "name": "stdout",
     "output_type": "stream",
     "text": [
      "10\n",
      "10\n"
     ]
    }
   ],
   "source": [
    "# Q.4 Write and analyse both recursive and an iterative program to compute the binomial coefficient.\n",
    "\n",
    "class BinomialCoefficient:\n",
    "    def __init__(self, n, k):\n",
    "        self.n = n\n",
    "        self.k = k\n",
    "\n",
    "    def binomial_coefficient_recursive(self, n, k):\n",
    "        if k == 0 or k == n:\n",
    "            return 1\n",
    "        return self.binomial_coefficient_recursive(n-1, k-1) + self.binomial_coefficient_recursive(n-1, k)\n",
    "\n",
    "    def binomial_coefficient_iterative(self):\n",
    "        C = [[0 for _ in range(self.k+1)] for _ in range(self.n+1)]\n",
    "        for i in range(self.n+1):\n",
    "            for j in range(min(i, self.k)+1):\n",
    "                if j == 0 or j == i:\n",
    "                    C[i][j] = 1\n",
    "                else:\n",
    "                    C[i][j] = C[i-1][j-1] + C[i-1][j]\n",
    "        return C[self.n][self.k]\n",
    "\n",
    "# Print\n",
    "n = 5\n",
    "k = 2\n",
    "bc = BinomialCoefficient(n, k)\n",
    "print(bc.binomial_coefficient_recursive(n, k))\n",
    "print(bc.binomial_coefficient_iterative())"
   ]
  },
  {
   "cell_type": "code",
   "execution_count": null,
   "metadata": {},
   "outputs": [
    {
     "name": "stdout",
     "output_type": "stream",
     "text": [
      "([11, 12, 22, 25, 64], 4.0531158447265625e-06)\n"
     ]
    }
   ],
   "source": [
    "# Q.5 Implement and analyse the Selection sort algorithm for given keys.\n",
    "\n",
    "class SelectionSort:\n",
    "    def __init__(self, arr):\n",
    "        self.arr = arr\n",
    "        self.n = len(arr)\n",
    "\n",
    "    def selection_sort(self):\n",
    "        start = time.time()\n",
    "        for i in range(self.n):\n",
    "            min_idx = i\n",
    "            for j in range(i+1, self.n):\n",
    "                if self.arr[j] < self.arr[min_idx]:\n",
    "                    min_idx = j\n",
    "            self.arr[i], self.arr[min_idx] = self.arr[min_idx], self.arr[i]\n",
    "        end = time.time()\n",
    "        return self.arr, end - start\n",
    "\n",
    "# Print\n",
    "arr = [64, 25, 12, 22, 11]\n",
    "ss = SelectionSort(arr)\n",
    "print(ss.selection_sort())\n",
    "\n",
    "        \n",
    "        "
   ]
  },
  {
   "cell_type": "code",
   "execution_count": null,
   "metadata": {},
   "outputs": [
    {
     "name": "stdout",
     "output_type": "stream",
     "text": [
      "True\n",
      "True\n"
     ]
    }
   ],
   "source": [
    "# Q.6 Write and analyse a program to find whether the given number is Armstrong Number or not using\n",
    "# a: Iterative Method; b. Recursive method.\n",
    "\n",
    "class ArmstrongNumber:\n",
    "    def __init__(self, n):\n",
    "        self.n = n\n",
    "\n",
    "    def iterative_armstrong(self):\n",
    "        temp = self.n\n",
    "        n = len(str(self.n))\n",
    "        sum = 0\n",
    "        while temp > 0:\n",
    "            digit = temp % 10\n",
    "            sum += digit ** n\n",
    "            temp //= 10\n",
    "        return sum == self.n\n",
    "\n",
    "    def recursive_armstrong(self, n, temp=0):\n",
    "        if n == 0:\n",
    "            return temp == self.n\n",
    "        digit = n % 10\n",
    "        temp += digit ** len(str(self.n))\n",
    "        return self.recursive_armstrong(n//10, temp)\n",
    "\n",
    "# Print\n",
    "n = 153\n",
    "an = ArmstrongNumber(n)\n",
    "print(an.iterative_armstrong())\n",
    "print(an.recursive_armstrong(n))"
   ]
  },
  {
   "cell_type": "code",
   "execution_count": null,
   "metadata": {},
   "outputs": [
    {
     "name": "stdout",
     "output_type": "stream",
     "text": [
      "Move disk 1 from A to C\n",
      "Move disk 2 from A to B\n",
      "Move disk 1 from C to B\n",
      "Move disk 3 from A to C\n",
      "Move disk 1 from B to A\n",
      "Move disk 2 from B to C\n",
      "Move disk 1 from A to C\n"
     ]
    }
   ],
   "source": [
    "# Q.7 Implement and analyse the program for Tower of Hanoi problem using a recursion method.\n",
    "\n",
    "class TowerOfHanoi:\n",
    "    def __init__(self, n):\n",
    "        self.n = n\n",
    "\n",
    "    def tower_of_hanoi(self, n, source, destination, aux):\n",
    "        if n == 1:\n",
    "            print(f\"Move disk 1 from {source} to {destination}\")\n",
    "            return\n",
    "        self.tower_of_hanoi(n-1, source, aux, destination)\n",
    "        print(f\"Move disk {n} from {source} to {destination}\")\n",
    "        self.tower_of_hanoi(n-1, aux, destination, source)\n",
    "\n",
    "# Print\n",
    "n = 3\n",
    "th = TowerOfHanoi(n)\n",
    "th.tower_of_hanoi(n, 'A', 'C', 'B')"
   ]
  },
  {
   "cell_type": "code",
   "execution_count": null,
   "metadata": {},
   "outputs": [
    {
     "name": "stdout",
     "output_type": "stream",
     "text": [
      "10\n"
     ]
    }
   ],
   "source": [
    "# Q.8 The pigeonhole principle states that if a function f has n distinct inputs but less then n distinct outputs, then there exist two inputs a and b such that a ≠ b and f(a) = f(b).\n",
    "# Write a program to find a and b such that f(a) = f(b). Assume that the function inputs are 1, 2, 3.....and n.\n",
    "\n",
    "class PigeonholePrinciple:\n",
    "    def __init__(self, arr):\n",
    "        self.arr = arr\n",
    "        self.n = len(arr)\n",
    "\n",
    "    def find_pigeonhole(self):\n",
    "        hole = {}\n",
    "        for i in range(self.n):\n",
    "            if self.arr[i] in hole:\n",
    "                return self.arr[i]\n",
    "            hole[self.arr[i]] = 1\n",
    "        return -1\n",
    "\n",
    "# Print\n",
    "arr = [1, 2, 3, 4, 5, 6, 7, 8, 9, 10, 10]\n",
    "pp = PigeonholePrinciple(arr)\n",
    "print(pp.find_pigeonhole())\n"
   ]
  },
  {
   "cell_type": "code",
   "execution_count": null,
   "metadata": {},
   "outputs": [
    {
     "name": "stdout",
     "output_type": "stream",
     "text": [
      "(9, 3)\n",
      "(9, 3)\n"
     ]
    }
   ],
   "source": [
    "# Q.9 Write a program to find the largest and smallest number from given three numbers using:\n",
    "# a: Iterative Method b. Recursive method also analyse the program.\n",
    "\n",
    "class LargestSmallest:\n",
    "    def __init__(self, a, b, c):\n",
    "        self.a = a\n",
    "        self.b = b\n",
    "        self.c = c\n",
    "\n",
    "    def iterative_largest_smallest(self):\n",
    "        largest = max(self.a, self.b, self.c)\n",
    "        smallest = min(self.a, self.b, self.c)\n",
    "        return largest, smallest\n",
    "\n",
    "    def recursive_largest_smallest(self, arr, n):\n",
    "        if n == 1:\n",
    "            return arr[0], arr[0]\n",
    "        largest, smallest = self.recursive_largest_smallest(arr, n-1)\n",
    "        return max(largest, arr[n-1]), min(smallest, arr[n-1])\n",
    "\n",
    "# Print\n",
    "a, b, c = 5, 3, 9\n",
    "ls = LargestSmallest(a, b, c)\n",
    "print(ls.iterative_largest_smallest())\n",
    "print(ls.recursive_largest_smallest([a, b, c], 3))"
   ]
  },
  {
   "cell_type": "code",
   "execution_count": null,
   "metadata": {},
   "outputs": [
    {
     "name": "stdout",
     "output_type": "stream",
     "text": [
      "(1, 2)\n"
     ]
    }
   ],
   "source": [
    "# Q.10 In the following C function, let n ≥ m. \n",
    "# int GCD(int n, int m){\n",
    "# if (n%m==0)\n",
    "# return m;\n",
    "# n=n%m;\n",
    "# return GCD(m,n);\n",
    "#}\n",
    "#How many recursive calls are made by this function?\n",
    "\n",
    "# counter increases by 1 for each recursive call\n",
    "\n",
    "def GCD(n, m, count=0):\n",
    "    if n % m == 0:\n",
    "        return m, count\n",
    "    n = n % m\n",
    "    count += 1\n",
    "    return GCD(m, n, count)\n",
    "\n",
    "# Print\n",
    "n, m = 7, 5\n",
    "print(GCD(n, m)) "
   ]
  },
  {
   "cell_type": "code",
   "execution_count": null,
   "metadata": {},
   "outputs": [
    {
     "name": "stdout",
     "output_type": "stream",
     "text": [
      "34\n"
     ]
    }
   ],
   "source": [
    "# Write down the recursive definition for the problem of finding n Fibonacci numbers.\n",
    "# If you did not remember identical subproblems, how many recursive calls would the algorithm make?\n",
    "# Now write an alternative recursive definition in such a way that you can computer the Fibonacci numbers in O(n) time\n",
    "# but without the need to have a separate array to remember the previously computed values.\n",
    "\n",
    "# Recursive definition\n",
    "# F(0) = 0\n",
    "# F(1) = 1\n",
    "# F(n) = F(n-1) + F(n-2)\n",
    "\n",
    "# It would make 2^n recursive calls\n",
    "\n",
    "# Menmoization\n",
    "class Fibo:\n",
    "    def __init__(self, n):\n",
    "        self.n = n\n",
    "        self.memo = [-1] * (n+1)\n",
    "\n",
    "    def fibo(self):\n",
    "        def helper(n):\n",
    "            if n == 0:\n",
    "                return 0\n",
    "            if n == 1:\n",
    "                return 1\n",
    "            if self.memo[n] != -1:\n",
    "                return self.memo[n]\n",
    "            self.memo[n] = helper(n-1) + helper(n-2)\n",
    "            return self.memo[n]\n",
    "        return helper(self.n)\n",
    "\n",
    "\n",
    "# Print\n",
    "n = 9\n",
    "f = Fibo(n)\n",
    "print(f.fibo())\n"
   ]
  },
  {
   "cell_type": "code",
   "execution_count": null,
   "metadata": {},
   "outputs": [
    {
     "name": "stdout",
     "output_type": "stream",
     "text": [
      "1 2 3 4 5 \n",
      "1 2 4 5 \n",
      "False\n",
      "4\n",
      "1 6 4 5 \n",
      "1 6 4 7 \n",
      "8 6 4 7 \n"
     ]
    }
   ],
   "source": [
    "# Q.12 Implement the program for the following operations in singly link list and analyze the time and space complexity:\n",
    "# a: Insertion; b. Deletion; c: Search; d: Count; e: Modify\n",
    "\n",
    "class Node:\n",
    "    def __init__(self, data):\n",
    "        self.data = data\n",
    "        self.next = None\n",
    "\n",
    "class LinkedList:\n",
    "    def __init__(self):\n",
    "        self.head = None\n",
    "\n",
    "    def insert(self, data):\n",
    "        new_node = Node(data)\n",
    "        if self.head is None:\n",
    "            self.head = new_node\n",
    "            return\n",
    "        temp = self.head\n",
    "        while temp.next:\n",
    "            temp = temp.next\n",
    "        temp.next = new_node\n",
    "\n",
    "    def delete(self, data):\n",
    "        temp = self.head\n",
    "        if temp and temp.data == data:\n",
    "            self.head = temp.next\n",
    "            temp = None\n",
    "            return\n",
    "        prev = None\n",
    "        while temp and temp.data != data:\n",
    "            prev = temp\n",
    "            temp = temp.next\n",
    "        if temp is None:\n",
    "            return\n",
    "        prev.next = temp.next\n",
    "        temp = None\n",
    "\n",
    "    def search(self, data):\n",
    "        temp = self.head\n",
    "        while temp:\n",
    "            if temp.data == data:\n",
    "                return True\n",
    "            temp = temp.next\n",
    "        return False\n",
    "\n",
    "    def count(self):\n",
    "        temp = self.head\n",
    "        count = 0\n",
    "        while temp:\n",
    "            count += 1\n",
    "            temp = temp.next\n",
    "        return count\n",
    "\n",
    "    def modify(self, old_data, new_data):\n",
    "        temp = self.head\n",
    "        while temp:\n",
    "            if temp.data == old_data:\n",
    "                temp.data = new_data\n",
    "                return\n",
    "            temp = temp.next\n",
    "\n",
    "    def print_list(self):\n",
    "        temp = self.head\n",
    "        while temp:\n",
    "            print(temp.data, end=\" \")\n",
    "            temp = temp.next\n",
    "        print()\n",
    "\n",
    "# Print\n",
    "ll = LinkedList()\n",
    "ll.insert(1)\n",
    "ll.insert(2)\n",
    "ll.insert(3)\n",
    "ll.insert(4)\n",
    "ll.insert(5)\n",
    "ll.print_list()\n",
    "ll.delete(3)\n",
    "ll.print_list()\n",
    "print(ll.search(3))\n",
    "print(ll.count())\n",
    "ll.modify(2, 6)\n",
    "ll.print_list()\n",
    "ll.modify(5, 7)\n",
    "ll.print_list()\n",
    "ll.modify(1, 8)\n",
    "ll.print_list()\n"
   ]
  },
  {
   "cell_type": "code",
   "execution_count": null,
   "metadata": {},
   "outputs": [
    {
     "name": "stdout",
     "output_type": "stream",
     "text": [
      "(9, 1)\n"
     ]
    }
   ],
   "source": [
    "# Q.13 Consider the problem of finding the largest and smallest of n distinct positive integers. \n",
    "# Write down the general recursive definition using the concept of 'splitting' of the original list.\n",
    "# Analyse the initial solution using (a) recurrence relations and Master Theorem and also using (b) recursion trees generated. \n",
    "# Determine the optimal split, develop the final algorithm and present the same.\n",
    "\n",
    "class LargestSmallest:\n",
    "    def __init__(self, arr):\n",
    "        self.arr = arr\n",
    "        self.n = len(arr)\n",
    "# simple implementation of binary search\n",
    "    def largest_smallest(self):\n",
    "        def helper(arr, low, high):\n",
    "            if low == high:\n",
    "                return arr[low], arr[low]\n",
    "            if high - low == 1:\n",
    "                return (arr[low], arr[high]) if arr[low] > arr[high] else (arr[high], arr[low])\n",
    "            mid = (low + high) // 2\n",
    "            left_largest, left_smallest = helper(arr, low, mid)\n",
    "            right_largest, right_smallest = helper(arr, mid+1, high)\n",
    "            return max(left_largest, right_largest), min(left_smallest, right_smallest)\n",
    "        return helper(self.arr, 0, self.n-1)\n",
    "\n",
    "\n",
    "# Print\n",
    "arr = [5, 3, 9, 1, 7, 2]\n",
    "ls = LargestSmallest(arr)\n",
    "print(ls.largest_smallest())"
   ]
  },
  {
   "cell_type": "code",
   "execution_count": null,
   "metadata": {},
   "outputs": [
    {
     "name": "stdout",
     "output_type": "stream",
     "text": [
      "[1, 2, 3, 5, 7, 9]\n"
     ]
    }
   ],
   "source": [
    "# Q.14 Write down the recursive definition by a simple modification of Quicksort by choosing a pivot element\n",
    "# randomly and splitting the list based on the elements less than or greater than the pivot and then performing recursion.\n",
    "# What is the complexity of this scheme in the average case?\n",
    "\n",
    "class QuickSort:\n",
    "    def __init__(self, arr):\n",
    "        self.arr = arr\n",
    "        self.n = len(arr)\n",
    "\n",
    "    def quick_sort(self):\n",
    "        def helper(arr):\n",
    "            if len(arr) <= 1:\n",
    "                return arr\n",
    "            pivot = arr[random.randint(0, len(arr)-1)]\n",
    "            left = [x for x in arr if x < pivot]\n",
    "            right = [x for x in arr if x > pivot]\n",
    "            return helper(left) + [x for x in arr if x == pivot] + helper(right)\n",
    "        return helper(self.arr)\n",
    "    \n",
    "# Print\n",
    "arr = [5, 3, 9, 1, 7, 2]\n",
    "qs = QuickSort(arr)\n",
    "print(qs.quick_sort())"
   ]
  },
  {
   "cell_type": "code",
   "execution_count": null,
   "metadata": {},
   "outputs": [
    {
     "name": "stdout",
     "output_type": "stream",
     "text": [
      "([11, 12, 22, 25, 64], 5.9604644775390625e-06)\n",
      "Space Complexity of list: 104\n",
      "Space Complexity of arr[0]: 28\n"
     ]
    }
   ],
   "source": [
    "# Q.15 Write a program to implement the Bubble sort algorithm for given keys. Also evaluated the time and space complexity of your program.\n",
    "\n",
    "class BubbleSort:\n",
    "    def __init__(self, arr):\n",
    "        self.arr = arr\n",
    "        self.n = len(arr)\n",
    "\n",
    "    def bubble_sort(self):\n",
    "        start = time.time()\n",
    "        for i in range(self.n):\n",
    "            for j in range(0, self.n-i-1):\n",
    "                if self.arr[j] > self.arr[j+1]:\n",
    "                    self.arr[j], self.arr[j+1] = self.arr[j+1], self.arr[j]\n",
    "        end = time.time()\n",
    "        return self.arr, end - start\n",
    "    \n",
    "# Print\n",
    "arr = [64, 25, 12, 22, 11]\n",
    "bs = BubbleSort(arr)\n",
    "print(bs.bubble_sort())\n",
    "\n",
    "# Space Complexity \n",
    "\n",
    "arr = [64, 25, 12, 22, 11]\n",
    "print('Space Complexity of list:', sys.getsizeof(arr))\n",
    "print('Space Complexity of arr[0]:', sys.getsizeof(arr[0]))\n"
   ]
  },
  {
   "cell_type": "code",
   "execution_count": null,
   "metadata": {},
   "outputs": [],
   "source": [
    "# Q.16 Write a program to implement the Selection Sort algorithm for given keys. Also evaluated the time and space complexity of your program.\n",
    "\n",
    "class SelectionSort:\n",
    "    def __init__(self, arr):\n",
    "        self.arr = arr\n",
    "        self.n = len(arr)\n",
    "\n",
    "    def selection_sort(self):\n",
    "        start = time.time()\n",
    "        for i in range(self.n):\n",
    "            min_idx = i\n",
    "            for j in range(i+1, self.n):\n",
    "                if self.arr[j] < self.arr[min_idx]:\n",
    "                    min_idx = j\n",
    "            self.arr[i], self.arr[min_idx] = self.arr[min_idx], self.arr[i]\n",
    "        end = time.time()\n",
    "        return self.arr, end - start\n",
    "    \n",
    "# Print\n",
    "arr = [64, 25, 12, 22, 11]\n",
    "ss = SelectionSort(arr)\n",
    "print(ss.selection_sort())\n",
    "\n",
    "# Space Complexity \n",
    "arr = [64, 25, 12, 22, 11]\n",
    "print('Space Complexity of list:', sys.getsizeof(arr)) \n",
    "print('Space Complexity of arr[0]:', sys.getsizeof(arr[0])) \n"
   ]
  },
  {
   "cell_type": "code",
   "execution_count": null,
   "metadata": {},
   "outputs": [],
   "source": [
    "# Q.17 Write a program to implement the Insertion Sort algorithm for given keys. Also evaluated the time and space complexity of your program.\n",
    "\n",
    "class InsertionSort:\n",
    "    def __init__(self, arr):\n",
    "        self.arr = arr\n",
    "        self.n = len(arr)\n",
    "\n",
    "    def insertion_sort(self):\n",
    "        start = time.time()\n",
    "        for i in range(1, self.n):\n",
    "            key = self.arr[i]\n",
    "            j = i - 1\n",
    "            while j >= 0 and key < self.arr[j]:\n",
    "                self.arr[j+1] = self.arr[j]\n",
    "                j -= 1\n",
    "            self.arr[j+1] = key\n",
    "        end = time.time()\n",
    "        return self.arr, end - start\n",
    "    \n",
    "# Print\n",
    "arr = [64, 25, 12, 22, 11]\n",
    "isort = InsertionSort(arr)\n",
    "print(isort.insertion_sort())\n",
    "\n",
    "# Space Complexity\n",
    "arr = [64, 25, 12, 22, 11]\n",
    "print('Space Complexity of list:', sys.getsizeof(arr))\n",
    "print('Space Complexity of arr[0]:', sys.getsizeof(arr[0]))\n"
   ]
  }
 ],
 "metadata": {
  "kernelspec": {
   "display_name": "Assignment",
   "language": "python",
   "name": "python3"
  },
  "language_info": {
   "codemirror_mode": {
    "name": "ipython",
    "version": 3
   },
   "file_extension": ".py",
   "mimetype": "text/x-python",
   "name": "python",
   "nbconvert_exporter": "python",
   "pygments_lexer": "ipython3",
   "version": "3.11.7"
  }
 },
 "nbformat": 4,
 "nbformat_minor": 2
}
